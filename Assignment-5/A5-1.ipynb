{
 "cells": [
  {
   "cell_type": "markdown",
   "source": [
    "Assignment from https://cjtu.github.io/spirl/f21_a5.html"
   ],
   "metadata": {
    "collapsed": false
   },
   "id": "7a3446d07c8b031a"
  },
  {
   "cell_type": "code",
   "execution_count": 1,
   "outputs": [],
   "source": [
    "import pandas as pd"
   ],
   "metadata": {
    "collapsed": false,
    "ExecuteTime": {
     "end_time": "2023-10-23T08:18:46.408759Z",
     "start_time": "2023-10-23T08:18:45.679858Z"
    }
   },
   "id": "b50a7491fea54b0c"
  },
  {
   "cell_type": "code",
   "execution_count": 2,
   "outputs": [],
   "source": [
    "data_url_prefix = 'https://raw.githubusercontent.com/cjtu/spirl/master/spirl/data/a5data'"
   ],
   "metadata": {
    "collapsed": false,
    "ExecuteTime": {
     "end_time": "2023-10-23T08:18:46.412682Z",
     "start_time": "2023-10-23T08:18:46.409995Z"
    }
   },
   "id": "dc1444e4361f079b"
  },
  {
   "cell_type": "code",
   "execution_count": 3,
   "outputs": [
    {
     "data": {
      "text/plain": "   Seq    RA_ICRS    DE_ICRS    Plx  e_Plx   pmRA  e_pmRA   pmDE  e_pmDE  \\\n0    1  183.10367  27.380058  11.67   0.05 -12.19    0.08  -9.41    0.05   \n1    2  183.17819  25.228415  11.31   0.12 -11.75    0.17  -7.85    0.12   \n2    3  183.22176  26.250357  11.59   0.04 -12.07    0.06  -9.52    0.04   \n3    4  183.88109  25.066960  11.32   0.11 -12.13    0.17  -9.13    0.14   \n4    5  184.03484  25.760326  11.72   0.05 -12.23    0.08 -10.53    0.06   \n\n     RV  e_RV Memb  GaiaDR2                    SimbadName   _RA_icrs  \\\n0  0.15  0.27    b  GaiaDR2  Gaia DR2 4009709385110617472  183.10373   \n1  0.00  0.00    b  GaiaDR2  Gaia DR2 4003180691222880896  183.17825   \n2  0.59  1.01    b  GaiaDR2  Gaia DR2 4003406537783052416  183.22182   \n3  0.00  0.00    b  GaiaDR2  Gaia DR2 4002505586787874560  183.88115   \n4  2.06  0.37    b  GaiaDR2  Gaia DR2 4002565308308607616  184.03490   \n\n    _DE_icrs       Gmag      BPmag      RPmag  \n0  27.380098   7.979468   8.177060   7.629294  \n1  25.228449  16.489720  18.262440  15.217038  \n2  26.250397  11.097765  11.634375  10.412151  \n3  25.066998  16.016610  17.729359  14.767036  \n4  25.760372   7.988176   8.188746   7.633772  ",
      "text/html": "<div>\n<style scoped>\n    .dataframe tbody tr th:only-of-type {\n        vertical-align: middle;\n    }\n\n    .dataframe tbody tr th {\n        vertical-align: top;\n    }\n\n    .dataframe thead th {\n        text-align: right;\n    }\n</style>\n<table border=\"1\" class=\"dataframe\">\n  <thead>\n    <tr style=\"text-align: right;\">\n      <th></th>\n      <th>Seq</th>\n      <th>RA_ICRS</th>\n      <th>DE_ICRS</th>\n      <th>Plx</th>\n      <th>e_Plx</th>\n      <th>pmRA</th>\n      <th>e_pmRA</th>\n      <th>pmDE</th>\n      <th>e_pmDE</th>\n      <th>RV</th>\n      <th>e_RV</th>\n      <th>Memb</th>\n      <th>GaiaDR2</th>\n      <th>SimbadName</th>\n      <th>_RA_icrs</th>\n      <th>_DE_icrs</th>\n      <th>Gmag</th>\n      <th>BPmag</th>\n      <th>RPmag</th>\n    </tr>\n  </thead>\n  <tbody>\n    <tr>\n      <th>0</th>\n      <td>1</td>\n      <td>183.10367</td>\n      <td>27.380058</td>\n      <td>11.67</td>\n      <td>0.05</td>\n      <td>-12.19</td>\n      <td>0.08</td>\n      <td>-9.41</td>\n      <td>0.05</td>\n      <td>0.15</td>\n      <td>0.27</td>\n      <td>b</td>\n      <td>GaiaDR2</td>\n      <td>Gaia DR2 4009709385110617472</td>\n      <td>183.10373</td>\n      <td>27.380098</td>\n      <td>7.979468</td>\n      <td>8.177060</td>\n      <td>7.629294</td>\n    </tr>\n    <tr>\n      <th>1</th>\n      <td>2</td>\n      <td>183.17819</td>\n      <td>25.228415</td>\n      <td>11.31</td>\n      <td>0.12</td>\n      <td>-11.75</td>\n      <td>0.17</td>\n      <td>-7.85</td>\n      <td>0.12</td>\n      <td>0.00</td>\n      <td>0.00</td>\n      <td>b</td>\n      <td>GaiaDR2</td>\n      <td>Gaia DR2 4003180691222880896</td>\n      <td>183.17825</td>\n      <td>25.228449</td>\n      <td>16.489720</td>\n      <td>18.262440</td>\n      <td>15.217038</td>\n    </tr>\n    <tr>\n      <th>2</th>\n      <td>3</td>\n      <td>183.22176</td>\n      <td>26.250357</td>\n      <td>11.59</td>\n      <td>0.04</td>\n      <td>-12.07</td>\n      <td>0.06</td>\n      <td>-9.52</td>\n      <td>0.04</td>\n      <td>0.59</td>\n      <td>1.01</td>\n      <td>b</td>\n      <td>GaiaDR2</td>\n      <td>Gaia DR2 4003406537783052416</td>\n      <td>183.22182</td>\n      <td>26.250397</td>\n      <td>11.097765</td>\n      <td>11.634375</td>\n      <td>10.412151</td>\n    </tr>\n    <tr>\n      <th>3</th>\n      <td>4</td>\n      <td>183.88109</td>\n      <td>25.066960</td>\n      <td>11.32</td>\n      <td>0.11</td>\n      <td>-12.13</td>\n      <td>0.17</td>\n      <td>-9.13</td>\n      <td>0.14</td>\n      <td>0.00</td>\n      <td>0.00</td>\n      <td>b</td>\n      <td>GaiaDR2</td>\n      <td>Gaia DR2 4002505586787874560</td>\n      <td>183.88115</td>\n      <td>25.066998</td>\n      <td>16.016610</td>\n      <td>17.729359</td>\n      <td>14.767036</td>\n    </tr>\n    <tr>\n      <th>4</th>\n      <td>5</td>\n      <td>184.03484</td>\n      <td>25.760326</td>\n      <td>11.72</td>\n      <td>0.05</td>\n      <td>-12.23</td>\n      <td>0.08</td>\n      <td>-10.53</td>\n      <td>0.06</td>\n      <td>2.06</td>\n      <td>0.37</td>\n      <td>b</td>\n      <td>GaiaDR2</td>\n      <td>Gaia DR2 4002565308308607616</td>\n      <td>184.03490</td>\n      <td>25.760372</td>\n      <td>7.988176</td>\n      <td>8.188746</td>\n      <td>7.633772</td>\n    </tr>\n  </tbody>\n</table>\n</div>"
     },
     "execution_count": 3,
     "metadata": {},
     "output_type": "execute_result"
    }
   ],
   "source": [
    "# 1a)\n",
    "data = pd.read_csv(f'{data_url_prefix}.csv')\n",
    "data.head()"
   ],
   "metadata": {
    "collapsed": false,
    "ExecuteTime": {
     "end_time": "2023-10-23T08:18:47.338873Z",
     "start_time": "2023-10-23T08:18:46.412621Z"
    }
   },
   "id": "2bd7a9faa4146b5b"
  },
  {
   "cell_type": "code",
   "execution_count": 4,
   "outputs": [
    {
     "data": {
      "text/plain": "   Seq    RA_ICRS    DE_ICRS    Plx  e_Plx   pmRA  e_pmRA   pmDE  e_pmDE  \\\n0    1  183.10367  27.380058  11.67   0.05 -12.19    0.08  -9.41    0.05   \n1    2  183.17819  25.228415  11.31   0.12 -11.75    0.17  -7.85    0.12   \n2    3  183.22176  26.250357  11.59   0.04 -12.07    0.06  -9.52    0.04   \n3    4  183.88109  25.066960  11.32   0.11 -12.13    0.17  -9.13    0.14   \n4    5  184.03484  25.760326  11.72   0.05 -12.23    0.08 -10.53    0.06   \n\n     RV  e_RV Memb  GaiaDR2                    SimbadName   _RA_icrs  \\\n0  0.15  0.27    b  GaiaDR2  Gaia DR2 4009709385110617472  183.10373   \n1  0.00  0.00    b  GaiaDR2  Gaia DR2 4003180691222880896  183.17825   \n2  0.59  1.01    b  GaiaDR2  Gaia DR2 4003406537783052416  183.22182   \n3  0.00  0.00    b  GaiaDR2  Gaia DR2 4002505586787874560  183.88115   \n4  2.06  0.37    b  GaiaDR2  Gaia DR2 4002565308308607616  184.03490   \n\n    _DE_icrs       Gmag      BPmag      RPmag  \n0  27.380098   7.979468   8.177060   7.629294  \n1  25.228449  16.489720  18.262440  15.217038  \n2  26.250397  11.097765  11.634375  10.412151  \n3  25.066998  16.016610  17.729359  14.767036  \n4  25.760372   7.988176   8.188746   7.633772  ",
      "text/html": "<div>\n<style scoped>\n    .dataframe tbody tr th:only-of-type {\n        vertical-align: middle;\n    }\n\n    .dataframe tbody tr th {\n        vertical-align: top;\n    }\n\n    .dataframe thead th {\n        text-align: right;\n    }\n</style>\n<table border=\"1\" class=\"dataframe\">\n  <thead>\n    <tr style=\"text-align: right;\">\n      <th></th>\n      <th>Seq</th>\n      <th>RA_ICRS</th>\n      <th>DE_ICRS</th>\n      <th>Plx</th>\n      <th>e_Plx</th>\n      <th>pmRA</th>\n      <th>e_pmRA</th>\n      <th>pmDE</th>\n      <th>e_pmDE</th>\n      <th>RV</th>\n      <th>e_RV</th>\n      <th>Memb</th>\n      <th>GaiaDR2</th>\n      <th>SimbadName</th>\n      <th>_RA_icrs</th>\n      <th>_DE_icrs</th>\n      <th>Gmag</th>\n      <th>BPmag</th>\n      <th>RPmag</th>\n    </tr>\n  </thead>\n  <tbody>\n    <tr>\n      <th>0</th>\n      <td>1</td>\n      <td>183.10367</td>\n      <td>27.380058</td>\n      <td>11.67</td>\n      <td>0.05</td>\n      <td>-12.19</td>\n      <td>0.08</td>\n      <td>-9.41</td>\n      <td>0.05</td>\n      <td>0.15</td>\n      <td>0.27</td>\n      <td>b</td>\n      <td>GaiaDR2</td>\n      <td>Gaia DR2 4009709385110617472</td>\n      <td>183.10373</td>\n      <td>27.380098</td>\n      <td>7.979468</td>\n      <td>8.177060</td>\n      <td>7.629294</td>\n    </tr>\n    <tr>\n      <th>1</th>\n      <td>2</td>\n      <td>183.17819</td>\n      <td>25.228415</td>\n      <td>11.31</td>\n      <td>0.12</td>\n      <td>-11.75</td>\n      <td>0.17</td>\n      <td>-7.85</td>\n      <td>0.12</td>\n      <td>0.00</td>\n      <td>0.00</td>\n      <td>b</td>\n      <td>GaiaDR2</td>\n      <td>Gaia DR2 4003180691222880896</td>\n      <td>183.17825</td>\n      <td>25.228449</td>\n      <td>16.489720</td>\n      <td>18.262440</td>\n      <td>15.217038</td>\n    </tr>\n    <tr>\n      <th>2</th>\n      <td>3</td>\n      <td>183.22176</td>\n      <td>26.250357</td>\n      <td>11.59</td>\n      <td>0.04</td>\n      <td>-12.07</td>\n      <td>0.06</td>\n      <td>-9.52</td>\n      <td>0.04</td>\n      <td>0.59</td>\n      <td>1.01</td>\n      <td>b</td>\n      <td>GaiaDR2</td>\n      <td>Gaia DR2 4003406537783052416</td>\n      <td>183.22182</td>\n      <td>26.250397</td>\n      <td>11.097765</td>\n      <td>11.634375</td>\n      <td>10.412151</td>\n    </tr>\n    <tr>\n      <th>3</th>\n      <td>4</td>\n      <td>183.88109</td>\n      <td>25.066960</td>\n      <td>11.32</td>\n      <td>0.11</td>\n      <td>-12.13</td>\n      <td>0.17</td>\n      <td>-9.13</td>\n      <td>0.14</td>\n      <td>0.00</td>\n      <td>0.00</td>\n      <td>b</td>\n      <td>GaiaDR2</td>\n      <td>Gaia DR2 4002505586787874560</td>\n      <td>183.88115</td>\n      <td>25.066998</td>\n      <td>16.016610</td>\n      <td>17.729359</td>\n      <td>14.767036</td>\n    </tr>\n    <tr>\n      <th>4</th>\n      <td>5</td>\n      <td>184.03484</td>\n      <td>25.760326</td>\n      <td>11.72</td>\n      <td>0.05</td>\n      <td>-12.23</td>\n      <td>0.08</td>\n      <td>-10.53</td>\n      <td>0.06</td>\n      <td>2.06</td>\n      <td>0.37</td>\n      <td>b</td>\n      <td>GaiaDR2</td>\n      <td>Gaia DR2 4002565308308607616</td>\n      <td>184.03490</td>\n      <td>25.760372</td>\n      <td>7.988176</td>\n      <td>8.188746</td>\n      <td>7.633772</td>\n    </tr>\n  </tbody>\n</table>\n</div>"
     },
     "execution_count": 4,
     "metadata": {},
     "output_type": "execute_result"
    }
   ],
   "source": [
    "# 1b)\n",
    "data = pd.read_csv(f'{data_url_prefix}.tsv', delimiter='\\t')\n",
    "data.head()"
   ],
   "metadata": {
    "collapsed": false,
    "ExecuteTime": {
     "end_time": "2023-10-23T08:18:48.142611Z",
     "start_time": "2023-10-23T08:18:47.328991Z"
    }
   },
   "id": "7bc425a9a5f76eb2"
  },
  {
   "cell_type": "code",
   "execution_count": 5,
   "outputs": [
    {
     "data": {
      "text/plain": "   Seq    RA_ICRS    DE_ICRS    Plx  e_Plx   pmRA  e_pmRA   pmDE  e_pmDE  \\\n0    1  183.10367  27.380058  11.67   0.05 -12.19    0.08  -9.41    0.05   \n1    2  183.17819  25.228415  11.31   0.12 -11.75    0.17  -7.85    0.12   \n2    3  183.22176  26.250357  11.59   0.04 -12.07    0.06  -9.52    0.04   \n3    4  183.88109  25.066960  11.32   0.11 -12.13    0.17  -9.13    0.14   \n4    5  184.03484  25.760326  11.72   0.05 -12.23    0.08 -10.53    0.06   \n\n     RV  e_RV Memb  GaiaDR2                    SimbadName   _RA_icrs  \\\n0  0.15  0.27    b  GaiaDR2  Gaia DR2 4009709385110617472  183.10373   \n1  0.00  0.00    b  GaiaDR2  Gaia DR2 4003180691222880896  183.17825   \n2  0.59  1.01    b  GaiaDR2  Gaia DR2 4003406537783052416  183.22182   \n3  0.00  0.00    b  GaiaDR2  Gaia DR2 4002505586787874560  183.88115   \n4  2.06  0.37    b  GaiaDR2  Gaia DR2 4002565308308607616  184.03490   \n\n    _DE_icrs       Gmag      BPmag      RPmag  \n0  27.380098   7.979468   8.177060   7.629294  \n1  25.228449  16.489720  18.262440  15.217038  \n2  26.250397  11.097765  11.634375  10.412151  \n3  25.066998  16.016610  17.729359  14.767036  \n4  25.760372   7.988176   8.188746   7.633772  ",
      "text/html": "<div>\n<style scoped>\n    .dataframe tbody tr th:only-of-type {\n        vertical-align: middle;\n    }\n\n    .dataframe tbody tr th {\n        vertical-align: top;\n    }\n\n    .dataframe thead th {\n        text-align: right;\n    }\n</style>\n<table border=\"1\" class=\"dataframe\">\n  <thead>\n    <tr style=\"text-align: right;\">\n      <th></th>\n      <th>Seq</th>\n      <th>RA_ICRS</th>\n      <th>DE_ICRS</th>\n      <th>Plx</th>\n      <th>e_Plx</th>\n      <th>pmRA</th>\n      <th>e_pmRA</th>\n      <th>pmDE</th>\n      <th>e_pmDE</th>\n      <th>RV</th>\n      <th>e_RV</th>\n      <th>Memb</th>\n      <th>GaiaDR2</th>\n      <th>SimbadName</th>\n      <th>_RA_icrs</th>\n      <th>_DE_icrs</th>\n      <th>Gmag</th>\n      <th>BPmag</th>\n      <th>RPmag</th>\n    </tr>\n  </thead>\n  <tbody>\n    <tr>\n      <th>0</th>\n      <td>1</td>\n      <td>183.10367</td>\n      <td>27.380058</td>\n      <td>11.67</td>\n      <td>0.05</td>\n      <td>-12.19</td>\n      <td>0.08</td>\n      <td>-9.41</td>\n      <td>0.05</td>\n      <td>0.15</td>\n      <td>0.27</td>\n      <td>b</td>\n      <td>GaiaDR2</td>\n      <td>Gaia DR2 4009709385110617472</td>\n      <td>183.10373</td>\n      <td>27.380098</td>\n      <td>7.979468</td>\n      <td>8.177060</td>\n      <td>7.629294</td>\n    </tr>\n    <tr>\n      <th>1</th>\n      <td>2</td>\n      <td>183.17819</td>\n      <td>25.228415</td>\n      <td>11.31</td>\n      <td>0.12</td>\n      <td>-11.75</td>\n      <td>0.17</td>\n      <td>-7.85</td>\n      <td>0.12</td>\n      <td>0.00</td>\n      <td>0.00</td>\n      <td>b</td>\n      <td>GaiaDR2</td>\n      <td>Gaia DR2 4003180691222880896</td>\n      <td>183.17825</td>\n      <td>25.228449</td>\n      <td>16.489720</td>\n      <td>18.262440</td>\n      <td>15.217038</td>\n    </tr>\n    <tr>\n      <th>2</th>\n      <td>3</td>\n      <td>183.22176</td>\n      <td>26.250357</td>\n      <td>11.59</td>\n      <td>0.04</td>\n      <td>-12.07</td>\n      <td>0.06</td>\n      <td>-9.52</td>\n      <td>0.04</td>\n      <td>0.59</td>\n      <td>1.01</td>\n      <td>b</td>\n      <td>GaiaDR2</td>\n      <td>Gaia DR2 4003406537783052416</td>\n      <td>183.22182</td>\n      <td>26.250397</td>\n      <td>11.097765</td>\n      <td>11.634375</td>\n      <td>10.412151</td>\n    </tr>\n    <tr>\n      <th>3</th>\n      <td>4</td>\n      <td>183.88109</td>\n      <td>25.066960</td>\n      <td>11.32</td>\n      <td>0.11</td>\n      <td>-12.13</td>\n      <td>0.17</td>\n      <td>-9.13</td>\n      <td>0.14</td>\n      <td>0.00</td>\n      <td>0.00</td>\n      <td>b</td>\n      <td>GaiaDR2</td>\n      <td>Gaia DR2 4002505586787874560</td>\n      <td>183.88115</td>\n      <td>25.066998</td>\n      <td>16.016610</td>\n      <td>17.729359</td>\n      <td>14.767036</td>\n    </tr>\n    <tr>\n      <th>4</th>\n      <td>5</td>\n      <td>184.03484</td>\n      <td>25.760326</td>\n      <td>11.72</td>\n      <td>0.05</td>\n      <td>-12.23</td>\n      <td>0.08</td>\n      <td>-10.53</td>\n      <td>0.06</td>\n      <td>2.06</td>\n      <td>0.37</td>\n      <td>b</td>\n      <td>GaiaDR2</td>\n      <td>Gaia DR2 4002565308308607616</td>\n      <td>184.03490</td>\n      <td>25.760372</td>\n      <td>7.988176</td>\n      <td>8.188746</td>\n      <td>7.633772</td>\n    </tr>\n  </tbody>\n</table>\n</div>"
     },
     "execution_count": 5,
     "metadata": {},
     "output_type": "execute_result"
    }
   ],
   "source": [
    "# 1c)\n",
    "data = pd.read_excel(f'{data_url_prefix}.xlsx')\n",
    "data.head()"
   ],
   "metadata": {
    "collapsed": false,
    "ExecuteTime": {
     "end_time": "2023-10-23T08:18:49.709519Z",
     "start_time": "2023-10-23T08:18:48.145042Z"
    }
   },
   "id": "391026d9a4310f57"
  },
  {
   "cell_type": "code",
   "execution_count": 6,
   "outputs": [
    {
     "data": {
      "text/plain": "   #        Seq    RA_ICRS  DE_ICRS   Plx  e_Plx  pmRA  e_pmRA  pmDE  e_pmDE  \\\n0  1  183.10367  27.380058    11.67  0.05 -12.19  0.08   -9.41  0.05    0.15   \n1  2  183.17819  25.228415    11.31  0.12 -11.75  0.17   -7.85  0.12    0.00   \n2  3  183.22176  26.250357    11.59  0.04 -12.07  0.06   -9.52  0.04    0.59   \n3  4  183.88109  25.066960    11.32  0.11 -12.13  0.17   -9.13  0.14    0.00   \n4  5  184.03484  25.760326    11.72  0.05 -12.23  0.08  -10.53  0.06    2.06   \n\n     RV e_RV     Memb                       GaiaDR2  SimbadName   _RA_icrs  \\\n0  0.27    b  GaiaDR2  Gaia DR2 4009709385110617472   183.10373  27.380098   \n1  0.00    b  GaiaDR2  Gaia DR2 4003180691222880896   183.17825  25.228449   \n2  1.01    b  GaiaDR2  Gaia DR2 4003406537783052416   183.22182  26.250397   \n3  0.00    b  GaiaDR2  Gaia DR2 4002505586787874560   183.88115  25.066998   \n4  0.37    b  GaiaDR2  Gaia DR2 4002565308308607616   184.03490  25.760372   \n\n    _DE_icrs       Gmag      BPmag  RPmag  \n0   7.979468   8.177060   7.629294    NaN  \n1  16.489720  18.262440  15.217038    NaN  \n2  11.097765  11.634375  10.412151    NaN  \n3  16.016610  17.729359  14.767036    NaN  \n4   7.988176   8.188746   7.633772    NaN  ",
      "text/html": "<div>\n<style scoped>\n    .dataframe tbody tr th:only-of-type {\n        vertical-align: middle;\n    }\n\n    .dataframe tbody tr th {\n        vertical-align: top;\n    }\n\n    .dataframe thead th {\n        text-align: right;\n    }\n</style>\n<table border=\"1\" class=\"dataframe\">\n  <thead>\n    <tr style=\"text-align: right;\">\n      <th></th>\n      <th>#</th>\n      <th>Seq</th>\n      <th>RA_ICRS</th>\n      <th>DE_ICRS</th>\n      <th>Plx</th>\n      <th>e_Plx</th>\n      <th>pmRA</th>\n      <th>e_pmRA</th>\n      <th>pmDE</th>\n      <th>e_pmDE</th>\n      <th>RV</th>\n      <th>e_RV</th>\n      <th>Memb</th>\n      <th>GaiaDR2</th>\n      <th>SimbadName</th>\n      <th>_RA_icrs</th>\n      <th>_DE_icrs</th>\n      <th>Gmag</th>\n      <th>BPmag</th>\n      <th>RPmag</th>\n    </tr>\n  </thead>\n  <tbody>\n    <tr>\n      <th>0</th>\n      <td>1</td>\n      <td>183.10367</td>\n      <td>27.380058</td>\n      <td>11.67</td>\n      <td>0.05</td>\n      <td>-12.19</td>\n      <td>0.08</td>\n      <td>-9.41</td>\n      <td>0.05</td>\n      <td>0.15</td>\n      <td>0.27</td>\n      <td>b</td>\n      <td>GaiaDR2</td>\n      <td>Gaia DR2 4009709385110617472</td>\n      <td>183.10373</td>\n      <td>27.380098</td>\n      <td>7.979468</td>\n      <td>8.177060</td>\n      <td>7.629294</td>\n      <td>NaN</td>\n    </tr>\n    <tr>\n      <th>1</th>\n      <td>2</td>\n      <td>183.17819</td>\n      <td>25.228415</td>\n      <td>11.31</td>\n      <td>0.12</td>\n      <td>-11.75</td>\n      <td>0.17</td>\n      <td>-7.85</td>\n      <td>0.12</td>\n      <td>0.00</td>\n      <td>0.00</td>\n      <td>b</td>\n      <td>GaiaDR2</td>\n      <td>Gaia DR2 4003180691222880896</td>\n      <td>183.17825</td>\n      <td>25.228449</td>\n      <td>16.489720</td>\n      <td>18.262440</td>\n      <td>15.217038</td>\n      <td>NaN</td>\n    </tr>\n    <tr>\n      <th>2</th>\n      <td>3</td>\n      <td>183.22176</td>\n      <td>26.250357</td>\n      <td>11.59</td>\n      <td>0.04</td>\n      <td>-12.07</td>\n      <td>0.06</td>\n      <td>-9.52</td>\n      <td>0.04</td>\n      <td>0.59</td>\n      <td>1.01</td>\n      <td>b</td>\n      <td>GaiaDR2</td>\n      <td>Gaia DR2 4003406537783052416</td>\n      <td>183.22182</td>\n      <td>26.250397</td>\n      <td>11.097765</td>\n      <td>11.634375</td>\n      <td>10.412151</td>\n      <td>NaN</td>\n    </tr>\n    <tr>\n      <th>3</th>\n      <td>4</td>\n      <td>183.88109</td>\n      <td>25.066960</td>\n      <td>11.32</td>\n      <td>0.11</td>\n      <td>-12.13</td>\n      <td>0.17</td>\n      <td>-9.13</td>\n      <td>0.14</td>\n      <td>0.00</td>\n      <td>0.00</td>\n      <td>b</td>\n      <td>GaiaDR2</td>\n      <td>Gaia DR2 4002505586787874560</td>\n      <td>183.88115</td>\n      <td>25.066998</td>\n      <td>16.016610</td>\n      <td>17.729359</td>\n      <td>14.767036</td>\n      <td>NaN</td>\n    </tr>\n    <tr>\n      <th>4</th>\n      <td>5</td>\n      <td>184.03484</td>\n      <td>25.760326</td>\n      <td>11.72</td>\n      <td>0.05</td>\n      <td>-12.23</td>\n      <td>0.08</td>\n      <td>-10.53</td>\n      <td>0.06</td>\n      <td>2.06</td>\n      <td>0.37</td>\n      <td>b</td>\n      <td>GaiaDR2</td>\n      <td>Gaia DR2 4002565308308607616</td>\n      <td>184.03490</td>\n      <td>25.760372</td>\n      <td>7.988176</td>\n      <td>8.188746</td>\n      <td>7.633772</td>\n      <td>NaN</td>\n    </tr>\n  </tbody>\n</table>\n</div>"
     },
     "execution_count": 6,
     "metadata": {},
     "output_type": "execute_result"
    }
   ],
   "source": [
    "# 1d)\n",
    "data = pd.read_csv(f'{data_url_prefix}.txt', delimiter='\\s+')\n",
    "data.head()"
   ],
   "metadata": {
    "collapsed": false,
    "ExecuteTime": {
     "end_time": "2023-10-23T08:18:50.251180Z",
     "start_time": "2023-10-23T08:18:49.706196Z"
    }
   },
   "id": "a228c3fab7157c60"
  },
  {
   "cell_type": "code",
   "execution_count": 7,
   "outputs": [
    {
     "data": {
      "text/plain": "   #        Seq    RA_ICRS  DE_ICRS   Plx  e_Plx  pmRA  e_pmRA  pmDE  e_pmDE  \\\n0  1  183.10367  27.380058    11.67  0.05 -12.19  0.08   -9.41  0.05    0.15   \n1  2  183.17819  25.228415    11.31  0.12 -11.75  0.17   -7.85  0.12    0.00   \n2  3  183.22176  26.250357    11.59  0.04 -12.07  0.06   -9.52  0.04    0.59   \n3  4  183.88109  25.066960    11.32  0.11 -12.13  0.17   -9.13  0.14    0.00   \n4  5  184.03484  25.760326    11.72  0.05 -12.23  0.08  -10.53  0.06    2.06   \n\n     RV e_RV     Memb                       GaiaDR2  SimbadName   _RA_icrs  \\\n0  0.27    b  GaiaDR2  Gaia DR2 4009709385110617472   183.10373  27.380098   \n1  0.00    b  GaiaDR2  Gaia DR2 4003180691222880896   183.17825  25.228449   \n2  1.01    b  GaiaDR2  Gaia DR2 4003406537783052416   183.22182  26.250397   \n3  0.00    b  GaiaDR2  Gaia DR2 4002505586787874560   183.88115  25.066998   \n4  0.37    b  GaiaDR2  Gaia DR2 4002565308308607616   184.03490  25.760372   \n\n    _DE_icrs       Gmag      BPmag  RPmag  \n0   7.979468   8.177060   7.629294    NaN  \n1  16.489720  18.262440  15.217038    NaN  \n2  11.097765  11.634375  10.412151    NaN  \n3  16.016610  17.729359  14.767036    NaN  \n4   7.988176   8.188746   7.633772    NaN  ",
      "text/html": "<div>\n<style scoped>\n    .dataframe tbody tr th:only-of-type {\n        vertical-align: middle;\n    }\n\n    .dataframe tbody tr th {\n        vertical-align: top;\n    }\n\n    .dataframe thead th {\n        text-align: right;\n    }\n</style>\n<table border=\"1\" class=\"dataframe\">\n  <thead>\n    <tr style=\"text-align: right;\">\n      <th></th>\n      <th>#</th>\n      <th>Seq</th>\n      <th>RA_ICRS</th>\n      <th>DE_ICRS</th>\n      <th>Plx</th>\n      <th>e_Plx</th>\n      <th>pmRA</th>\n      <th>e_pmRA</th>\n      <th>pmDE</th>\n      <th>e_pmDE</th>\n      <th>RV</th>\n      <th>e_RV</th>\n      <th>Memb</th>\n      <th>GaiaDR2</th>\n      <th>SimbadName</th>\n      <th>_RA_icrs</th>\n      <th>_DE_icrs</th>\n      <th>Gmag</th>\n      <th>BPmag</th>\n      <th>RPmag</th>\n    </tr>\n  </thead>\n  <tbody>\n    <tr>\n      <th>0</th>\n      <td>1</td>\n      <td>183.10367</td>\n      <td>27.380058</td>\n      <td>11.67</td>\n      <td>0.05</td>\n      <td>-12.19</td>\n      <td>0.08</td>\n      <td>-9.41</td>\n      <td>0.05</td>\n      <td>0.15</td>\n      <td>0.27</td>\n      <td>b</td>\n      <td>GaiaDR2</td>\n      <td>Gaia DR2 4009709385110617472</td>\n      <td>183.10373</td>\n      <td>27.380098</td>\n      <td>7.979468</td>\n      <td>8.177060</td>\n      <td>7.629294</td>\n      <td>NaN</td>\n    </tr>\n    <tr>\n      <th>1</th>\n      <td>2</td>\n      <td>183.17819</td>\n      <td>25.228415</td>\n      <td>11.31</td>\n      <td>0.12</td>\n      <td>-11.75</td>\n      <td>0.17</td>\n      <td>-7.85</td>\n      <td>0.12</td>\n      <td>0.00</td>\n      <td>0.00</td>\n      <td>b</td>\n      <td>GaiaDR2</td>\n      <td>Gaia DR2 4003180691222880896</td>\n      <td>183.17825</td>\n      <td>25.228449</td>\n      <td>16.489720</td>\n      <td>18.262440</td>\n      <td>15.217038</td>\n      <td>NaN</td>\n    </tr>\n    <tr>\n      <th>2</th>\n      <td>3</td>\n      <td>183.22176</td>\n      <td>26.250357</td>\n      <td>11.59</td>\n      <td>0.04</td>\n      <td>-12.07</td>\n      <td>0.06</td>\n      <td>-9.52</td>\n      <td>0.04</td>\n      <td>0.59</td>\n      <td>1.01</td>\n      <td>b</td>\n      <td>GaiaDR2</td>\n      <td>Gaia DR2 4003406537783052416</td>\n      <td>183.22182</td>\n      <td>26.250397</td>\n      <td>11.097765</td>\n      <td>11.634375</td>\n      <td>10.412151</td>\n      <td>NaN</td>\n    </tr>\n    <tr>\n      <th>3</th>\n      <td>4</td>\n      <td>183.88109</td>\n      <td>25.066960</td>\n      <td>11.32</td>\n      <td>0.11</td>\n      <td>-12.13</td>\n      <td>0.17</td>\n      <td>-9.13</td>\n      <td>0.14</td>\n      <td>0.00</td>\n      <td>0.00</td>\n      <td>b</td>\n      <td>GaiaDR2</td>\n      <td>Gaia DR2 4002505586787874560</td>\n      <td>183.88115</td>\n      <td>25.066998</td>\n      <td>16.016610</td>\n      <td>17.729359</td>\n      <td>14.767036</td>\n      <td>NaN</td>\n    </tr>\n    <tr>\n      <th>4</th>\n      <td>5</td>\n      <td>184.03484</td>\n      <td>25.760326</td>\n      <td>11.72</td>\n      <td>0.05</td>\n      <td>-12.23</td>\n      <td>0.08</td>\n      <td>-10.53</td>\n      <td>0.06</td>\n      <td>2.06</td>\n      <td>0.37</td>\n      <td>b</td>\n      <td>GaiaDR2</td>\n      <td>Gaia DR2 4002565308308607616</td>\n      <td>184.03490</td>\n      <td>25.760372</td>\n      <td>7.988176</td>\n      <td>8.188746</td>\n      <td>7.633772</td>\n      <td>NaN</td>\n    </tr>\n  </tbody>\n</table>\n</div>"
     },
     "execution_count": 7,
     "metadata": {},
     "output_type": "execute_result"
    }
   ],
   "source": [
    "# 1e)\n",
    "data = pd.read_csv(f'{data_url_prefix}_headers.txt', delimiter='\\s+', skiprows=2)\n",
    "data.head()"
   ],
   "metadata": {
    "collapsed": false,
    "ExecuteTime": {
     "end_time": "2023-10-23T08:18:50.796808Z",
     "start_time": "2023-10-23T08:18:50.245912Z"
    }
   },
   "id": "f7ceaa139e5af8de"
  },
  {
   "cell_type": "code",
   "execution_count": 8,
   "outputs": [
    {
     "data": {
      "text/plain": "   Seq     RA_ICRS    DE_ICRS    Plx  e_Plx   pmRA  e_pmRA   pmDE  e_pmDE  \\\n0    1  183.103668  27.380058  11.67   0.05 -12.19    0.08  -9.41    0.05   \n1    2  183.178192  25.228415  11.31   0.12 -11.75    0.17  -7.85    0.12   \n2    3  183.221756  26.250357  11.59   0.04 -12.07    0.06  -9.52    0.04   \n3    4  183.881088  25.066959  11.32   0.11 -12.13    0.17  -9.13    0.14   \n4    5  184.034836  25.760326  11.72   0.05 -12.23    0.08 -10.53    0.06   \n\n     RV  e_RV  Memb     GaiaDR2                       SimbadName    _RA_icrs  \\\n0  0.15  0.27  b'b'  b'GaiaDR2'  b'Gaia DR2 4009709385110617472'  183.103729   \n1  0.00  0.00  b'b'  b'GaiaDR2'  b'Gaia DR2 4003180691222880896'  183.178253   \n2  0.59  1.01  b'b'  b'GaiaDR2'  b'Gaia DR2 4003406537783052416'  183.221817   \n3  0.00  0.00  b'b'  b'GaiaDR2'  b'Gaia DR2 4002505586787874560'  183.881149   \n4  2.06  0.37  b'b'  b'GaiaDR2'  b'Gaia DR2 4002565308308607616'  184.034897   \n\n    _DE_icrs       Gmag      BPmag      RPmag  \n0  27.380098   7.979468   8.177060   7.629294  \n1  25.228449  16.489720  18.262440  15.217038  \n2  26.250397  11.097765  11.634375  10.412151  \n3  25.066998  16.016610  17.729359  14.767036  \n4  25.760372   7.988176   8.188746   7.633772  ",
      "text/html": "<div>\n<style scoped>\n    .dataframe tbody tr th:only-of-type {\n        vertical-align: middle;\n    }\n\n    .dataframe tbody tr th {\n        vertical-align: top;\n    }\n\n    .dataframe thead th {\n        text-align: right;\n    }\n</style>\n<table border=\"1\" class=\"dataframe\">\n  <thead>\n    <tr style=\"text-align: right;\">\n      <th></th>\n      <th>Seq</th>\n      <th>RA_ICRS</th>\n      <th>DE_ICRS</th>\n      <th>Plx</th>\n      <th>e_Plx</th>\n      <th>pmRA</th>\n      <th>e_pmRA</th>\n      <th>pmDE</th>\n      <th>e_pmDE</th>\n      <th>RV</th>\n      <th>e_RV</th>\n      <th>Memb</th>\n      <th>GaiaDR2</th>\n      <th>SimbadName</th>\n      <th>_RA_icrs</th>\n      <th>_DE_icrs</th>\n      <th>Gmag</th>\n      <th>BPmag</th>\n      <th>RPmag</th>\n    </tr>\n  </thead>\n  <tbody>\n    <tr>\n      <th>0</th>\n      <td>1</td>\n      <td>183.103668</td>\n      <td>27.380058</td>\n      <td>11.67</td>\n      <td>0.05</td>\n      <td>-12.19</td>\n      <td>0.08</td>\n      <td>-9.41</td>\n      <td>0.05</td>\n      <td>0.15</td>\n      <td>0.27</td>\n      <td>b'b'</td>\n      <td>b'GaiaDR2'</td>\n      <td>b'Gaia DR2 4009709385110617472'</td>\n      <td>183.103729</td>\n      <td>27.380098</td>\n      <td>7.979468</td>\n      <td>8.177060</td>\n      <td>7.629294</td>\n    </tr>\n    <tr>\n      <th>1</th>\n      <td>2</td>\n      <td>183.178192</td>\n      <td>25.228415</td>\n      <td>11.31</td>\n      <td>0.12</td>\n      <td>-11.75</td>\n      <td>0.17</td>\n      <td>-7.85</td>\n      <td>0.12</td>\n      <td>0.00</td>\n      <td>0.00</td>\n      <td>b'b'</td>\n      <td>b'GaiaDR2'</td>\n      <td>b'Gaia DR2 4003180691222880896'</td>\n      <td>183.178253</td>\n      <td>25.228449</td>\n      <td>16.489720</td>\n      <td>18.262440</td>\n      <td>15.217038</td>\n    </tr>\n    <tr>\n      <th>2</th>\n      <td>3</td>\n      <td>183.221756</td>\n      <td>26.250357</td>\n      <td>11.59</td>\n      <td>0.04</td>\n      <td>-12.07</td>\n      <td>0.06</td>\n      <td>-9.52</td>\n      <td>0.04</td>\n      <td>0.59</td>\n      <td>1.01</td>\n      <td>b'b'</td>\n      <td>b'GaiaDR2'</td>\n      <td>b'Gaia DR2 4003406537783052416'</td>\n      <td>183.221817</td>\n      <td>26.250397</td>\n      <td>11.097765</td>\n      <td>11.634375</td>\n      <td>10.412151</td>\n    </tr>\n    <tr>\n      <th>3</th>\n      <td>4</td>\n      <td>183.881088</td>\n      <td>25.066959</td>\n      <td>11.32</td>\n      <td>0.11</td>\n      <td>-12.13</td>\n      <td>0.17</td>\n      <td>-9.13</td>\n      <td>0.14</td>\n      <td>0.00</td>\n      <td>0.00</td>\n      <td>b'b'</td>\n      <td>b'GaiaDR2'</td>\n      <td>b'Gaia DR2 4002505586787874560'</td>\n      <td>183.881149</td>\n      <td>25.066998</td>\n      <td>16.016610</td>\n      <td>17.729359</td>\n      <td>14.767036</td>\n    </tr>\n    <tr>\n      <th>4</th>\n      <td>5</td>\n      <td>184.034836</td>\n      <td>25.760326</td>\n      <td>11.72</td>\n      <td>0.05</td>\n      <td>-12.23</td>\n      <td>0.08</td>\n      <td>-10.53</td>\n      <td>0.06</td>\n      <td>2.06</td>\n      <td>0.37</td>\n      <td>b'b'</td>\n      <td>b'GaiaDR2'</td>\n      <td>b'Gaia DR2 4002565308308607616'</td>\n      <td>184.034897</td>\n      <td>25.760372</td>\n      <td>7.988176</td>\n      <td>8.188746</td>\n      <td>7.633772</td>\n    </tr>\n  </tbody>\n</table>\n</div>"
     },
     "execution_count": 8,
     "metadata": {},
     "output_type": "execute_result"
    }
   ],
   "source": [
    "# 1f)\n",
    "from astropy.table import Table\n",
    "\n",
    "data = Table.read(f'{data_url_prefix}.fits').to_pandas()\n",
    "data.head()"
   ],
   "metadata": {
    "collapsed": false,
    "ExecuteTime": {
     "end_time": "2023-10-23T08:18:51.841615Z",
     "start_time": "2023-10-23T08:18:50.786838Z"
    }
   },
   "id": "960db627daf61059"
  }
 ],
 "metadata": {
  "kernelspec": {
   "display_name": "Python 3",
   "language": "python",
   "name": "python3"
  },
  "language_info": {
   "codemirror_mode": {
    "name": "ipython",
    "version": 2
   },
   "file_extension": ".py",
   "mimetype": "text/x-python",
   "name": "python",
   "nbconvert_exporter": "python",
   "pygments_lexer": "ipython2",
   "version": "2.7.6"
  }
 },
 "nbformat": 4,
 "nbformat_minor": 5
}
